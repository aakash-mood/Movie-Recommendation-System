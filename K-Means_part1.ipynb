{
  "nbformat": 4,
  "nbformat_minor": 0,
  "metadata": {
    "colab": {
      "provenance": []
    },
    "kernelspec": {
      "name": "python3",
      "display_name": "Python 3"
    },
    "language_info": {
      "name": "python"
    }
  },
  "cells": [
    {
      "cell_type": "code",
      "execution_count": 359,
      "metadata": {
        "id": "WC616Y4wE2Kc"
      },
      "outputs": [],
      "source": [
        "import numpy as np\n",
        "import pandas as pd\n",
        "from scipy.spatial.distance import cdist\n",
        "from sklearn.preprocessing import StandardScaler, MinMaxScaler, binarize, normalize\n",
        "from sklearn.metrics.pairwise import cosine_similarity, euclidean_distances\n",
        "from sklearn.metrics import accuracy_score\n",
        "from collections import Counter\n",
        "import time\n",
        "import sys"
      ]
    },
    {
      "cell_type": "code",
      "source": [
        "df = pd.read_csv('./sample_data/data.csv',header=None)\n",
        "data=df.values\n",
        "y_true = pd.read_csv('./sample_data/label.csv',header=None).values\n",
        "K=10"
      ],
      "metadata": {
        "id": "VeFf__rpV2cV"
      },
      "execution_count": 334,
      "outputs": []
    },
    {
      "cell_type": "code",
      "source": [
        "def euclidean_distance(point1, point2):\n",
        "    return np.sqrt(np.sum((point1 - point2) ** 2))"
      ],
      "metadata": {
        "id": "dnPby6A-SZNv"
      },
      "execution_count": 335,
      "outputs": []
    },
    {
      "cell_type": "code",
      "source": [
        "def cosine_distance(x1, x2):\n",
        "    return 1 - cosine_similarity(x1.reshape(1, -1), x2.reshape(1, -1))[0, 0]"
      ],
      "metadata": {
        "id": "Uuj0QMj4Sb4f"
      },
      "execution_count": 336,
      "outputs": []
    },
    {
      "cell_type": "code",
      "source": [
        "def jaccard_distance(x1, x2):\n",
        "    intersection = np.sum(np.minimum(x1, x2))\n",
        "    union = np.sum(np.maximum(x1, x2))\n",
        "    return 1 - (intersection / union)"
      ],
      "metadata": {
        "id": "-UcZXQ9iAD59"
      },
      "execution_count": 337,
      "outputs": []
    },
    {
      "cell_type": "code",
      "source": [
        "def kmeans(X, k, distance_measure='euclidean', max_iters=100):\n",
        "    n_samples, n_features = X.shape\n",
        "\n",
        "    # Initialize centroids\n",
        "    centroids = X[np.random.choice(n_samples, k, replace=False)]\n",
        "    prev_centroids = centroids.copy()\n",
        "\n",
        "    # Stop criteria variables\n",
        "    max_iters_reached = False\n",
        "    sse_increase = False\n",
        "    no_change_in_centroids = False\n",
        "\n",
        "    # Track iterations and time\n",
        "    iterations = 0\n",
        "    start_time = time.time()\n",
        "\n",
        "    for _ in range(max_iters):\n",
        "        # Assign each sample to the nearest centroid\n",
        "        distances = np.zeros((n_samples, k))\n",
        "        for i in range(k):\n",
        "            if distance_measure == 'euclidean':\n",
        "                distances[:, i] = np.array([euclidean_distance(x, centroids[i]) for x in X])\n",
        "            elif distance_measure == 'cosine':\n",
        "                distances[:, i] = np.array([cosine_distance(x, centroids[i]) for x in X])\n",
        "            elif distance_measure == 'jaccard':\n",
        "                distances[:, i] = np.array([jaccard_distance(x, centroids[i]) for x in X])\n",
        "\n",
        "        labels = np.argmin(distances, axis=1)\n",
        "\n",
        "        # Update centroids\n",
        "        new_centroids = np.array([X[labels == j].mean(axis=0) for j in range(k)])\n",
        "\n",
        "        # Check for convergence\n",
        "        if np.all(centroids == new_centroids):\n",
        "            break\n",
        "\n",
        "        centroids = new_centroids\n",
        "        # Increment iterations\n",
        "        iterations += 1\n",
        "\n",
        "    end_time = time.time()\n",
        "    elapsed_time = end_time - start_time\n",
        "\n",
        "    # Calculate Sum of Squared Errors (SSE)\n",
        "    if distance_measure == 'euclidean':\n",
        "        sse = np.sum(np.sum([euclidean_distance(x, centroids[i]) ** 2 for x in X[labels == i]]) for i in range(len(centroids)))\n",
        "    elif distance_measure == 'cosine':\n",
        "        sse = np.sum(np.sum([cosine_distance(x, centroids[i]) ** 2 for x in X[labels == i]]) for i in range(len(centroids)))\n",
        "    elif distance_measure == 'jaccard':\n",
        "        sse = np.sum(np.sum([jaccard_distance(x, centroids[i]) ** 2 for x in X[labels == i]]) for i in range(len(centroids)))\n",
        "\n",
        "    return labels, centroids, iterations,elapsed_time,sse\n"
      ],
      "metadata": {
        "id": "usSQsehxUWb6"
      },
      "execution_count": 338,
      "outputs": []
    },
    {
      "cell_type": "code",
      "source": [
        "# Euclidean distance\n",
        "scaler = StandardScaler()\n",
        "data_standardized = scaler.fit_transform(data)\n",
        "labels_euclidean, centroids_euclidean, iters_euclidean, time_euclidean,sse_euclidean = kmeans(data_standardized, K, 'euclidean')"
      ],
      "metadata": {
        "colab": {
          "base_uri": "https://localhost:8080/"
        },
        "id": "2ejN43kZUWe4",
        "outputId": "67db56ae-da4a-46fe-ede8-08d2c70b3987"
      },
      "execution_count": 339,
      "outputs": [
        {
          "output_type": "stream",
          "name": "stderr",
          "text": [
            "<ipython-input-338-12cd3a025a4d>:46: DeprecationWarning: Calling np.sum(generator) is deprecated, and in the future will give a different result. Use np.sum(np.fromiter(generator)) or the python sum builtin instead.\n",
            "  sse = np.sum(np.sum([euclidean_distance(x, centroids[i]) ** 2 for x in X[labels == i]]) for i in range(len(centroids)))\n"
          ]
        }
      ]
    },
    {
      "cell_type": "code",
      "source": [
        "print(sse_euclidean)"
      ],
      "metadata": {
        "colab": {
          "base_uri": "https://localhost:8080/"
        },
        "id": "jMR9U78k2EEJ",
        "outputId": "d4a26175-3bf8-4b03-f8a1-441c7b4ef6cb"
      },
      "execution_count": 340,
      "outputs": [
        {
          "output_type": "stream",
          "name": "stdout",
          "text": [
            "5572509.488383138\n"
          ]
        }
      ]
    },
    {
      "cell_type": "code",
      "source": [
        "data_normalized = normalize(data)\n",
        "labels_cosine, centroids_cosine, iters_cosine, time_cosine,sse_cosine = kmeans(data_normalized, K, 'cosine')"
      ],
      "metadata": {
        "colab": {
          "base_uri": "https://localhost:8080/"
        },
        "id": "isM90dHYUWho",
        "outputId": "e5d78acf-b458-49e6-b797-0d313f518c71"
      },
      "execution_count": 341,
      "outputs": [
        {
          "output_type": "stream",
          "name": "stderr",
          "text": [
            "<ipython-input-338-12cd3a025a4d>:48: DeprecationWarning: Calling np.sum(generator) is deprecated, and in the future will give a different result. Use np.sum(np.fromiter(generator)) or the python sum builtin instead.\n",
            "  sse = np.sum(np.sum([cosine_distance(x, centroids[i]) ** 2 for x in X[labels == i]]) for i in range(len(centroids)))\n"
          ]
        }
      ]
    },
    {
      "cell_type": "code",
      "source": [
        "print(sse_cosine)"
      ],
      "metadata": {
        "colab": {
          "base_uri": "https://localhost:8080/"
        },
        "id": "swFtveEaRnfe",
        "outputId": "58ee46f9-9b2c-4066-c176-9ebded370fb7"
      },
      "execution_count": 342,
      "outputs": [
        {
          "output_type": "stream",
          "name": "stdout",
          "text": [
            "688.0471424786685\n"
          ]
        }
      ]
    },
    {
      "cell_type": "code",
      "source": [
        "data_binarized = binarize(data)\n",
        "labels_jaccard, centroids_jaccard, iters_jaccard, time_jaccard,sse_jaccard  = kmeans(data_binarized, K, 'jaccard')"
      ],
      "metadata": {
        "colab": {
          "base_uri": "https://localhost:8080/"
        },
        "id": "5Hw277iEUWj-",
        "outputId": "1f32260e-bfea-4808-a0ba-4430e3c61346"
      },
      "execution_count": 343,
      "outputs": [
        {
          "output_type": "stream",
          "name": "stderr",
          "text": [
            "<ipython-input-338-12cd3a025a4d>:50: DeprecationWarning: Calling np.sum(generator) is deprecated, and in the future will give a different result. Use np.sum(np.fromiter(generator)) or the python sum builtin instead.\n",
            "  sse = np.sum(np.sum([jaccard_distance(x, centroids[i]) ** 2 for x in X[labels == i]]) for i in range(len(centroids)))\n"
          ]
        }
      ]
    },
    {
      "cell_type": "code",
      "source": [
        "print(f\"Euclidean K-means SSE: {sse_euclidean}\")\n",
        "print(f\"Cosine K-means SSE: {sse_cosine}\")\n",
        "print(f\"Jaccard K-means SSE: {sse_jaccard}\")"
      ],
      "metadata": {
        "colab": {
          "base_uri": "https://localhost:8080/"
        },
        "id": "GbhCNCEv5zww",
        "outputId": "497697d8-c398-4a04-c1de-2f725513fc1a"
      },
      "execution_count": 344,
      "outputs": [
        {
          "output_type": "stream",
          "name": "stdout",
          "text": [
            "Euclidean K-means SSE: 5572509.488383138\n",
            "Cosine K-means SSE: 688.0471424786685\n",
            "Jaccard K-means SSE: 3019.7956677161465\n"
          ]
        }
      ]
    },
    {
      "cell_type": "code",
      "source": [
        "def majority_vote_labels(cluster_labels):\n",
        "    counter = Counter(map(tuple, cluster_labels))\n",
        "    majority_label = counter.most_common(1) [0] [0]\n",
        "    return majority_label"
      ],
      "metadata": {
        "id": "YSO249Dxlrpc"
      },
      "execution_count": 345,
      "outputs": []
    },
    {
      "cell_type": "code",
      "source": [
        "def compute_accuracy(predicted_labels, true_labels):\n",
        "    majority_vote_dict = {}\n",
        "    for cluster_label in np.unique(predicted_labels):\n",
        "        cluster_indices = np.where(predicted_labels == cluster_label)[0]\n",
        "        cluster_true_labels = true_labels[cluster_indices]\n",
        "        majority_vote_dict[cluster_label] = majority_vote_labels(cluster_true_labels)\n",
        "\n",
        "    predicted_majority_labels = np.array([majority_vote_dict[label] for label in predicted_labels])\n",
        "    accuracy = np.mean(predicted_majority_labels == true_labels)\n",
        "    return accuracy"
      ],
      "metadata": {
        "id": "tAfIO5Qzo47f"
      },
      "execution_count": 347,
      "outputs": []
    },
    {
      "cell_type": "code",
      "source": [
        "accuracy_euclidean = compute_accuracy(labels_euclidean, y_true)\n",
        "accuracy_cosine = compute_accuracy(labels_cosine, y_true)\n",
        "accuracy_jaccard = compute_accuracy(labels_jaccard, y_true)"
      ],
      "metadata": {
        "id": "N4ZO3kHko6pG"
      },
      "execution_count": 348,
      "outputs": []
    },
    {
      "cell_type": "code",
      "source": [
        "# Compare accuracies\n",
        "print(\"Euclidean Accuracy:\", accuracy_euclidean)\n",
        "print(\"Cosine Accuracy:\", accuracy_cosine)\n",
        "print(\"Jaccard Accuracy:\", accuracy_jaccard)"
      ],
      "metadata": {
        "colab": {
          "base_uri": "https://localhost:8080/"
        },
        "id": "S3eOrUpro9LP",
        "outputId": "eff9b30d-97fa-4232-ad59-25e211a1ca0a"
      },
      "execution_count": 349,
      "outputs": [
        {
          "output_type": "stream",
          "name": "stdout",
          "text": [
            "Euclidean Accuracy: 0.5162\n",
            "Cosine Accuracy: 0.5496\n",
            "Jaccard Accuracy: 0.6185\n"
          ]
        }
      ]
    },
    {
      "cell_type": "code",
      "source": [
        "# Compare iterations and time\n",
        "print(\"Euclidean-K-means: Iterations =\", iters_euclidean, \", Time =\", time_euclidean)\n",
        "print(\"Cosine-K-means: Iterations =\", iters_cosine, \", Time =\", time_cosine)\n",
        "print(\"Jaccard-K-means: Iterations =\", iters_jaccard, \", Time =\", time_jaccard)"
      ],
      "metadata": {
        "colab": {
          "base_uri": "https://localhost:8080/"
        },
        "id": "ZRdTOsL2qOKJ",
        "outputId": "43899506-1a92-46c0-c8fe-536802741f05"
      },
      "execution_count": 350,
      "outputs": [
        {
          "output_type": "stream",
          "name": "stdout",
          "text": [
            "Euclidean-K-means: Iterations = 39 , Time = 34.43560814857483\n",
            "Cosine-K-means: Iterations = 88 , Time = 1962.5294678211212\n",
            "Jaccard-K-means: Iterations = 60 , Time = 84.18351721763611\n"
          ]
        }
      ]
    },
    {
      "cell_type": "code",
      "source": [
        "def kmeans_iterations(X, k, distance_measure='euclidean', max_iters=100):\n",
        "    n_samples, n_features = X.shape\n",
        "\n",
        "    # Initialize centroids\n",
        "    centroids = X[np.random.choice(n_samples, k, replace=False)]\n",
        "    prev_centroids = centroids.copy()\n",
        "\n",
        "    # Stop criteria variables\n",
        "    max_iters_reached = False\n",
        "    sse_increase = False\n",
        "    no_change_in_centroids = False\n",
        "\n",
        "    # Track iterations and time\n",
        "    iterations = 0\n",
        "    start_time = time.time()\n",
        "\n",
        "    for _ in range(max_iters):\n",
        "        # Assign each sample to the nearest centroid\n",
        "        distances = np.zeros((n_samples, k))\n",
        "        for i in range(k):\n",
        "            if distance_measure == 'euclidean':\n",
        "                distances[:, i] = np.array([euclidean_distance(x, centroids[i]) for x in X])\n",
        "            elif distance_measure == 'cosine':\n",
        "                distances[:, i] = np.array([cosine_distance(x, centroids[i]) for x in X])\n",
        "            elif distance_measure == 'jaccard':\n",
        "                distances[:, i] = np.array([jaccard_distance(x, centroids[i]) for x in X])\n",
        "\n",
        "        labels = np.argmin(distances, axis=1)\n",
        "\n",
        "        # Update centroids\n",
        "        new_centroids = np.array([X[labels == j].mean(axis=0) for j in range(k)])\n",
        "\n",
        "        # Check for convergence\n",
        "        if iterations == max_iters-1:\n",
        "            break\n",
        "\n",
        "        centroids = new_centroids\n",
        "        # Increment iterations\n",
        "        iterations += 1\n",
        "\n",
        "    end_time = time.time()\n",
        "    elapsed_time = end_time - start_time\n",
        "\n",
        "    # Calculate Sum of Squared Errors (SSE)\n",
        "    if distance_measure == 'euclidean':\n",
        "        sse = np.sum(np.sum([euclidean_distance(x, centroids[i]) ** 2 for x in X[labels == i]]) for i in range(len(centroids)))\n",
        "    elif distance_measure == 'cosine':\n",
        "        sse = np.sum(np.sum([cosine_distance(x, centroids[i]) ** 2 for x in X[labels == i]]) for i in range(len(centroids)))\n",
        "    elif distance_measure == 'jaccard':\n",
        "        sse = np.sum(np.sum([jaccard_distance(x, centroids[i]) ** 2 for x in X[labels == i]]) for i in range(len(centroids)))\n",
        "\n",
        "    return labels, centroids, iterations,elapsed_time,sse\n"
      ],
      "metadata": {
        "id": "7B8uaSlLBNI8"
      },
      "execution_count": 351,
      "outputs": []
    },
    {
      "cell_type": "code",
      "source": [
        "# Euclidean distance\n",
        "scaler = StandardScaler()\n",
        "data_standardized = scaler.fit_transform(data)\n",
        "labels_euclidean, centroids_euclidean, iters_euclidean, time_euclidean,sse_euclidean = kmeans_iterations(data_standardized, K, 'euclidean',max_iters=10)"
      ],
      "metadata": {
        "colab": {
          "base_uri": "https://localhost:8080/"
        },
        "id": "mGhDhRAZBiAa",
        "outputId": "ad3fae4f-ba02-4eb6-e7e4-759fcff3bc2d"
      },
      "execution_count": 354,
      "outputs": [
        {
          "output_type": "stream",
          "name": "stderr",
          "text": [
            "<ipython-input-351-cc99128566a1>:46: DeprecationWarning: Calling np.sum(generator) is deprecated, and in the future will give a different result. Use np.sum(np.fromiter(generator)) or the python sum builtin instead.\n",
            "  sse = np.sum(np.sum([euclidean_distance(x, centroids[i]) ** 2 for x in X[labels == i]]) for i in range(len(centroids)))\n"
          ]
        }
      ]
    },
    {
      "cell_type": "code",
      "source": [
        "data_normalized = normalize(data)\n",
        "labels_cosine, centroids_cosine, iters_cosine, time_cosine,sse_cosine = kmeans_iterations(data_normalized, K, 'cosine',max_iters=10)"
      ],
      "metadata": {
        "colab": {
          "base_uri": "https://localhost:8080/"
        },
        "id": "iOw3ayUzBiD2",
        "outputId": "f75aa1c4-ede6-400e-a381-323e76737bd7"
      },
      "execution_count": 355,
      "outputs": [
        {
          "output_type": "stream",
          "name": "stderr",
          "text": [
            "<ipython-input-351-cc99128566a1>:48: DeprecationWarning: Calling np.sum(generator) is deprecated, and in the future will give a different result. Use np.sum(np.fromiter(generator)) or the python sum builtin instead.\n",
            "  sse = np.sum(np.sum([cosine_distance(x, centroids[i]) ** 2 for x in X[labels == i]]) for i in range(len(centroids)))\n"
          ]
        }
      ]
    },
    {
      "cell_type": "code",
      "source": [
        "data_binarized = binarize(data)\n",
        "labels_jaccard, centroids_jaccard, iters_jaccard, time_jaccard,sse_jaccard  = kmeans_iterations(data_binarized, K, 'jaccard',max_iters=10)"
      ],
      "metadata": {
        "colab": {
          "base_uri": "https://localhost:8080/"
        },
        "id": "U_BqR-0ZBiHT",
        "outputId": "9cfc3e62-6a1b-4cae-b4c3-273f7dc9273b"
      },
      "execution_count": 357,
      "outputs": [
        {
          "output_type": "stream",
          "name": "stderr",
          "text": [
            "<ipython-input-351-cc99128566a1>:50: DeprecationWarning: Calling np.sum(generator) is deprecated, and in the future will give a different result. Use np.sum(np.fromiter(generator)) or the python sum builtin instead.\n",
            "  sse = np.sum(np.sum([jaccard_distance(x, centroids[i]) ** 2 for x in X[labels == i]]) for i in range(len(centroids)))\n"
          ]
        }
      ]
    },
    {
      "cell_type": "code",
      "source": [
        "print(f\"Euclidean K-means SSE after 10 iterations: {sse_euclidean}\")\n",
        "print(f\"Cosine K-means SSE after 10 iterations: {sse_cosine}\")\n",
        "print(f\"Jaccard K-means SSE after 10 iterations: {sse_jaccard}\")"
      ],
      "metadata": {
        "colab": {
          "base_uri": "https://localhost:8080/"
        },
        "id": "Zwt3OhUcBiKe",
        "outputId": "5338d58a-a272-44e2-ffd0-c030c9eb9105"
      },
      "execution_count": 358,
      "outputs": [
        {
          "output_type": "stream",
          "name": "stdout",
          "text": [
            "Euclidean K-means SSE after 10 iterations: 5586842.9976208005\n",
            "Cosine K-means SSE after 10 iterations: 700.2502635282805\n",
            "Jaccard K-means SSE after 10 iterations: 3032.9003283724637\n"
          ]
        }
      ]
    },
    {
      "cell_type": "code",
      "source": [
        "def kmeans_iterations(X, k, distance_measure='euclidean', max_iters=100):\n",
        "    n_samples, n_features = X.shape\n",
        "\n",
        "    # Initialize centroids\n",
        "    centroids = X[np.random.choice(n_samples, k, replace=False)]\n",
        "    prev_centroids = centroids.copy()\n",
        "\n",
        "    # Stop criteria variables\n",
        "    max_iters_reached = False\n",
        "    sse_increase = False\n",
        "    no_change_in_centroids = False\n",
        "\n",
        "    # Track iterations and time\n",
        "    iterations = 0\n",
        "    start_time = time.time()\n",
        "    sse = sys.float_info.max\n",
        "    new_sse = 0\n",
        "\n",
        "    for _ in range(max_iters):\n",
        "        # Assign each sample to the nearest centroid\n",
        "        distances = np.zeros((n_samples, k))\n",
        "        for i in range(k):\n",
        "            if distance_measure == 'euclidean':\n",
        "                distances[:, i] = np.array([euclidean_distance(x, centroids[i]) for x in X])\n",
        "            elif distance_measure == 'cosine':\n",
        "                distances[:, i] = np.array([cosine_distance(x, centroids[i]) for x in X])\n",
        "            elif distance_measure == 'jaccard':\n",
        "                distances[:, i] = np.array([jaccard_distance(x, centroids[i]) for x in X])\n",
        "\n",
        "        labels = np.argmin(distances, axis=1)\n",
        "\n",
        "        # Update centroids\n",
        "        new_centroids = np.array([X[labels == j].mean(axis=0) for j in range(k)])\n",
        "        # Calculate Sum of Squared Errors (SSE)\n",
        "        if distance_measure == 'euclidean':\n",
        "            new_sse = np.sum(np.sum([euclidean_distance(x, centroids[i]) ** 2 for x in X[labels == i]]) for i in range(len(centroids)))\n",
        "        elif distance_measure == 'cosine':\n",
        "            new_sse = np.sum(np.sum([cosine_distance(x, centroids[i]) ** 2 for x in X[labels == i]]) for i in range(len(centroids)))\n",
        "        elif distance_measure == 'jaccard':\n",
        "            new_sse = np.sum(np.sum([jaccard_distance(x, centroids[i]) ** 2 for x in X[labels == i]]) for i in range(len(centroids)))\n",
        "        # Check for convergence\n",
        "        if new_sse>sse:\n",
        "            break\n",
        "\n",
        "        sse = new_sse\n",
        "        # Increment iterations\n",
        "\n",
        "    end_time = time.time()\n",
        "    elapsed_time = end_time - start_time\n",
        "\n",
        "\n",
        "\n",
        "    return labels, centroids, iterations,elapsed_time,sse\n"
      ],
      "metadata": {
        "id": "mnu_erLTChb5"
      },
      "execution_count": 360,
      "outputs": []
    },
    {
      "cell_type": "code",
      "source": [
        "# Euclidean distance\n",
        "scaler = StandardScaler()\n",
        "data_standardized = scaler.fit_transform(data)\n",
        "labels_euclidean, centroids_euclidean, iters_euclidean, time_euclidean,sse_euclidean = kmeans_iterations(data_standardized, K, 'euclidean',max_iters=500)"
      ],
      "metadata": {
        "colab": {
          "base_uri": "https://localhost:8080/"
        },
        "id": "xnCSelz-ChmG",
        "outputId": "69044b5e-40c0-4b1b-c8b2-7d1f70d8f791"
      },
      "execution_count": 363,
      "outputs": [
        {
          "output_type": "stream",
          "name": "stderr",
          "text": [
            "<ipython-input-360-eacaed9768d6>:36: DeprecationWarning: Calling np.sum(generator) is deprecated, and in the future will give a different result. Use np.sum(np.fromiter(generator)) or the python sum builtin instead.\n",
            "  new_sse = np.sum(np.sum([euclidean_distance(x, centroids[i]) ** 2 for x in X[labels == i]]) for i in range(len(centroids)))\n"
          ]
        }
      ]
    },
    {
      "cell_type": "code",
      "source": [
        "data_normalized = normalize(data)\n",
        "labels_cosine, centroids_cosine, iters_cosine, time_cosine,sse_cosine = kmeans_iterations(data_normalized, K, 'cosine',max_iters=500)"
      ],
      "metadata": {
        "colab": {
          "base_uri": "https://localhost:8080/"
        },
        "id": "ZBxSliUFFEq3",
        "outputId": "d1c8c189-83ff-4e1d-8335-57467f6f0751"
      },
      "execution_count": null,
      "outputs": [
        {
          "output_type": "stream",
          "name": "stderr",
          "text": [
            "<ipython-input-360-eacaed9768d6>:38: DeprecationWarning: Calling np.sum(generator) is deprecated, and in the future will give a different result. Use np.sum(np.fromiter(generator)) or the python sum builtin instead.\n",
            "  new_sse = np.sum(np.sum([cosine_distance(x, centroids[i]) ** 2 for x in X[labels == i]]) for i in range(len(centroids)))\n",
            "<ipython-input-360-eacaed9768d6>:38: DeprecationWarning: Calling np.sum(generator) is deprecated, and in the future will give a different result. Use np.sum(np.fromiter(generator)) or the python sum builtin instead.\n",
            "  new_sse = np.sum(np.sum([cosine_distance(x, centroids[i]) ** 2 for x in X[labels == i]]) for i in range(len(centroids)))\n",
            "<ipython-input-360-eacaed9768d6>:38: DeprecationWarning: Calling np.sum(generator) is deprecated, and in the future will give a different result. Use np.sum(np.fromiter(generator)) or the python sum builtin instead.\n",
            "  new_sse = np.sum(np.sum([cosine_distance(x, centroids[i]) ** 2 for x in X[labels == i]]) for i in range(len(centroids)))\n",
            "<ipython-input-360-eacaed9768d6>:38: DeprecationWarning: Calling np.sum(generator) is deprecated, and in the future will give a different result. Use np.sum(np.fromiter(generator)) or the python sum builtin instead.\n",
            "  new_sse = np.sum(np.sum([cosine_distance(x, centroids[i]) ** 2 for x in X[labels == i]]) for i in range(len(centroids)))\n",
            "<ipython-input-360-eacaed9768d6>:38: DeprecationWarning: Calling np.sum(generator) is deprecated, and in the future will give a different result. Use np.sum(np.fromiter(generator)) or the python sum builtin instead.\n",
            "  new_sse = np.sum(np.sum([cosine_distance(x, centroids[i]) ** 2 for x in X[labels == i]]) for i in range(len(centroids)))\n",
            "<ipython-input-360-eacaed9768d6>:38: DeprecationWarning: Calling np.sum(generator) is deprecated, and in the future will give a different result. Use np.sum(np.fromiter(generator)) or the python sum builtin instead.\n",
            "  new_sse = np.sum(np.sum([cosine_distance(x, centroids[i]) ** 2 for x in X[labels == i]]) for i in range(len(centroids)))\n",
            "<ipython-input-360-eacaed9768d6>:38: DeprecationWarning: Calling np.sum(generator) is deprecated, and in the future will give a different result. Use np.sum(np.fromiter(generator)) or the python sum builtin instead.\n",
            "  new_sse = np.sum(np.sum([cosine_distance(x, centroids[i]) ** 2 for x in X[labels == i]]) for i in range(len(centroids)))\n",
            "<ipython-input-360-eacaed9768d6>:38: DeprecationWarning: Calling np.sum(generator) is deprecated, and in the future will give a different result. Use np.sum(np.fromiter(generator)) or the python sum builtin instead.\n",
            "  new_sse = np.sum(np.sum([cosine_distance(x, centroids[i]) ** 2 for x in X[labels == i]]) for i in range(len(centroids)))\n",
            "<ipython-input-360-eacaed9768d6>:38: DeprecationWarning: Calling np.sum(generator) is deprecated, and in the future will give a different result. Use np.sum(np.fromiter(generator)) or the python sum builtin instead.\n",
            "  new_sse = np.sum(np.sum([cosine_distance(x, centroids[i]) ** 2 for x in X[labels == i]]) for i in range(len(centroids)))\n",
            "<ipython-input-360-eacaed9768d6>:38: DeprecationWarning: Calling np.sum(generator) is deprecated, and in the future will give a different result. Use np.sum(np.fromiter(generator)) or the python sum builtin instead.\n",
            "  new_sse = np.sum(np.sum([cosine_distance(x, centroids[i]) ** 2 for x in X[labels == i]]) for i in range(len(centroids)))\n",
            "<ipython-input-360-eacaed9768d6>:38: DeprecationWarning: Calling np.sum(generator) is deprecated, and in the future will give a different result. Use np.sum(np.fromiter(generator)) or the python sum builtin instead.\n",
            "  new_sse = np.sum(np.sum([cosine_distance(x, centroids[i]) ** 2 for x in X[labels == i]]) for i in range(len(centroids)))\n",
            "<ipython-input-360-eacaed9768d6>:38: DeprecationWarning: Calling np.sum(generator) is deprecated, and in the future will give a different result. Use np.sum(np.fromiter(generator)) or the python sum builtin instead.\n",
            "  new_sse = np.sum(np.sum([cosine_distance(x, centroids[i]) ** 2 for x in X[labels == i]]) for i in range(len(centroids)))\n",
            "<ipython-input-360-eacaed9768d6>:38: DeprecationWarning: Calling np.sum(generator) is deprecated, and in the future will give a different result. Use np.sum(np.fromiter(generator)) or the python sum builtin instead.\n",
            "  new_sse = np.sum(np.sum([cosine_distance(x, centroids[i]) ** 2 for x in X[labels == i]]) for i in range(len(centroids)))\n",
            "<ipython-input-360-eacaed9768d6>:38: DeprecationWarning: Calling np.sum(generator) is deprecated, and in the future will give a different result. Use np.sum(np.fromiter(generator)) or the python sum builtin instead.\n",
            "  new_sse = np.sum(np.sum([cosine_distance(x, centroids[i]) ** 2 for x in X[labels == i]]) for i in range(len(centroids)))\n",
            "<ipython-input-360-eacaed9768d6>:38: DeprecationWarning: Calling np.sum(generator) is deprecated, and in the future will give a different result. Use np.sum(np.fromiter(generator)) or the python sum builtin instead.\n",
            "  new_sse = np.sum(np.sum([cosine_distance(x, centroids[i]) ** 2 for x in X[labels == i]]) for i in range(len(centroids)))\n",
            "<ipython-input-360-eacaed9768d6>:38: DeprecationWarning: Calling np.sum(generator) is deprecated, and in the future will give a different result. Use np.sum(np.fromiter(generator)) or the python sum builtin instead.\n",
            "  new_sse = np.sum(np.sum([cosine_distance(x, centroids[i]) ** 2 for x in X[labels == i]]) for i in range(len(centroids)))\n",
            "<ipython-input-360-eacaed9768d6>:38: DeprecationWarning: Calling np.sum(generator) is deprecated, and in the future will give a different result. Use np.sum(np.fromiter(generator)) or the python sum builtin instead.\n",
            "  new_sse = np.sum(np.sum([cosine_distance(x, centroids[i]) ** 2 for x in X[labels == i]]) for i in range(len(centroids)))\n",
            "<ipython-input-360-eacaed9768d6>:38: DeprecationWarning: Calling np.sum(generator) is deprecated, and in the future will give a different result. Use np.sum(np.fromiter(generator)) or the python sum builtin instead.\n",
            "  new_sse = np.sum(np.sum([cosine_distance(x, centroids[i]) ** 2 for x in X[labels == i]]) for i in range(len(centroids)))\n",
            "<ipython-input-360-eacaed9768d6>:38: DeprecationWarning: Calling np.sum(generator) is deprecated, and in the future will give a different result. Use np.sum(np.fromiter(generator)) or the python sum builtin instead.\n",
            "  new_sse = np.sum(np.sum([cosine_distance(x, centroids[i]) ** 2 for x in X[labels == i]]) for i in range(len(centroids)))\n",
            "<ipython-input-360-eacaed9768d6>:38: DeprecationWarning: Calling np.sum(generator) is deprecated, and in the future will give a different result. Use np.sum(np.fromiter(generator)) or the python sum builtin instead.\n",
            "  new_sse = np.sum(np.sum([cosine_distance(x, centroids[i]) ** 2 for x in X[labels == i]]) for i in range(len(centroids)))\n",
            "<ipython-input-360-eacaed9768d6>:38: DeprecationWarning: Calling np.sum(generator) is deprecated, and in the future will give a different result. Use np.sum(np.fromiter(generator)) or the python sum builtin instead.\n",
            "  new_sse = np.sum(np.sum([cosine_distance(x, centroids[i]) ** 2 for x in X[labels == i]]) for i in range(len(centroids)))\n",
            "<ipython-input-360-eacaed9768d6>:38: DeprecationWarning: Calling np.sum(generator) is deprecated, and in the future will give a different result. Use np.sum(np.fromiter(generator)) or the python sum builtin instead.\n",
            "  new_sse = np.sum(np.sum([cosine_distance(x, centroids[i]) ** 2 for x in X[labels == i]]) for i in range(len(centroids)))\n",
            "<ipython-input-360-eacaed9768d6>:38: DeprecationWarning: Calling np.sum(generator) is deprecated, and in the future will give a different result. Use np.sum(np.fromiter(generator)) or the python sum builtin instead.\n",
            "  new_sse = np.sum(np.sum([cosine_distance(x, centroids[i]) ** 2 for x in X[labels == i]]) for i in range(len(centroids)))\n",
            "<ipython-input-360-eacaed9768d6>:38: DeprecationWarning: Calling np.sum(generator) is deprecated, and in the future will give a different result. Use np.sum(np.fromiter(generator)) or the python sum builtin instead.\n",
            "  new_sse = np.sum(np.sum([cosine_distance(x, centroids[i]) ** 2 for x in X[labels == i]]) for i in range(len(centroids)))\n",
            "<ipython-input-360-eacaed9768d6>:38: DeprecationWarning: Calling np.sum(generator) is deprecated, and in the future will give a different result. Use np.sum(np.fromiter(generator)) or the python sum builtin instead.\n",
            "  new_sse = np.sum(np.sum([cosine_distance(x, centroids[i]) ** 2 for x in X[labels == i]]) for i in range(len(centroids)))\n",
            "<ipython-input-360-eacaed9768d6>:38: DeprecationWarning: Calling np.sum(generator) is deprecated, and in the future will give a different result. Use np.sum(np.fromiter(generator)) or the python sum builtin instead.\n",
            "  new_sse = np.sum(np.sum([cosine_distance(x, centroids[i]) ** 2 for x in X[labels == i]]) for i in range(len(centroids)))\n",
            "<ipython-input-360-eacaed9768d6>:38: DeprecationWarning: Calling np.sum(generator) is deprecated, and in the future will give a different result. Use np.sum(np.fromiter(generator)) or the python sum builtin instead.\n",
            "  new_sse = np.sum(np.sum([cosine_distance(x, centroids[i]) ** 2 for x in X[labels == i]]) for i in range(len(centroids)))\n",
            "<ipython-input-360-eacaed9768d6>:38: DeprecationWarning: Calling np.sum(generator) is deprecated, and in the future will give a different result. Use np.sum(np.fromiter(generator)) or the python sum builtin instead.\n",
            "  new_sse = np.sum(np.sum([cosine_distance(x, centroids[i]) ** 2 for x in X[labels == i]]) for i in range(len(centroids)))\n",
            "<ipython-input-360-eacaed9768d6>:38: DeprecationWarning: Calling np.sum(generator) is deprecated, and in the future will give a different result. Use np.sum(np.fromiter(generator)) or the python sum builtin instead.\n",
            "  new_sse = np.sum(np.sum([cosine_distance(x, centroids[i]) ** 2 for x in X[labels == i]]) for i in range(len(centroids)))\n",
            "<ipython-input-360-eacaed9768d6>:38: DeprecationWarning: Calling np.sum(generator) is deprecated, and in the future will give a different result. Use np.sum(np.fromiter(generator)) or the python sum builtin instead.\n",
            "  new_sse = np.sum(np.sum([cosine_distance(x, centroids[i]) ** 2 for x in X[labels == i]]) for i in range(len(centroids)))\n",
            "<ipython-input-360-eacaed9768d6>:38: DeprecationWarning: Calling np.sum(generator) is deprecated, and in the future will give a different result. Use np.sum(np.fromiter(generator)) or the python sum builtin instead.\n",
            "  new_sse = np.sum(np.sum([cosine_distance(x, centroids[i]) ** 2 for x in X[labels == i]]) for i in range(len(centroids)))\n",
            "<ipython-input-360-eacaed9768d6>:38: DeprecationWarning: Calling np.sum(generator) is deprecated, and in the future will give a different result. Use np.sum(np.fromiter(generator)) or the python sum builtin instead.\n",
            "  new_sse = np.sum(np.sum([cosine_distance(x, centroids[i]) ** 2 for x in X[labels == i]]) for i in range(len(centroids)))\n",
            "<ipython-input-360-eacaed9768d6>:38: DeprecationWarning: Calling np.sum(generator) is deprecated, and in the future will give a different result. Use np.sum(np.fromiter(generator)) or the python sum builtin instead.\n",
            "  new_sse = np.sum(np.sum([cosine_distance(x, centroids[i]) ** 2 for x in X[labels == i]]) for i in range(len(centroids)))\n",
            "<ipython-input-360-eacaed9768d6>:38: DeprecationWarning: Calling np.sum(generator) is deprecated, and in the future will give a different result. Use np.sum(np.fromiter(generator)) or the python sum builtin instead.\n",
            "  new_sse = np.sum(np.sum([cosine_distance(x, centroids[i]) ** 2 for x in X[labels == i]]) for i in range(len(centroids)))\n",
            "<ipython-input-360-eacaed9768d6>:38: DeprecationWarning: Calling np.sum(generator) is deprecated, and in the future will give a different result. Use np.sum(np.fromiter(generator)) or the python sum builtin instead.\n",
            "  new_sse = np.sum(np.sum([cosine_distance(x, centroids[i]) ** 2 for x in X[labels == i]]) for i in range(len(centroids)))\n",
            "<ipython-input-360-eacaed9768d6>:38: DeprecationWarning: Calling np.sum(generator) is deprecated, and in the future will give a different result. Use np.sum(np.fromiter(generator)) or the python sum builtin instead.\n",
            "  new_sse = np.sum(np.sum([cosine_distance(x, centroids[i]) ** 2 for x in X[labels == i]]) for i in range(len(centroids)))\n",
            "<ipython-input-360-eacaed9768d6>:38: DeprecationWarning: Calling np.sum(generator) is deprecated, and in the future will give a different result. Use np.sum(np.fromiter(generator)) or the python sum builtin instead.\n",
            "  new_sse = np.sum(np.sum([cosine_distance(x, centroids[i]) ** 2 for x in X[labels == i]]) for i in range(len(centroids)))\n",
            "<ipython-input-360-eacaed9768d6>:38: DeprecationWarning: Calling np.sum(generator) is deprecated, and in the future will give a different result. Use np.sum(np.fromiter(generator)) or the python sum builtin instead.\n",
            "  new_sse = np.sum(np.sum([cosine_distance(x, centroids[i]) ** 2 for x in X[labels == i]]) for i in range(len(centroids)))\n",
            "<ipython-input-360-eacaed9768d6>:38: DeprecationWarning: Calling np.sum(generator) is deprecated, and in the future will give a different result. Use np.sum(np.fromiter(generator)) or the python sum builtin instead.\n",
            "  new_sse = np.sum(np.sum([cosine_distance(x, centroids[i]) ** 2 for x in X[labels == i]]) for i in range(len(centroids)))\n",
            "<ipython-input-360-eacaed9768d6>:38: DeprecationWarning: Calling np.sum(generator) is deprecated, and in the future will give a different result. Use np.sum(np.fromiter(generator)) or the python sum builtin instead.\n",
            "  new_sse = np.sum(np.sum([cosine_distance(x, centroids[i]) ** 2 for x in X[labels == i]]) for i in range(len(centroids)))\n",
            "<ipython-input-360-eacaed9768d6>:38: DeprecationWarning: Calling np.sum(generator) is deprecated, and in the future will give a different result. Use np.sum(np.fromiter(generator)) or the python sum builtin instead.\n",
            "  new_sse = np.sum(np.sum([cosine_distance(x, centroids[i]) ** 2 for x in X[labels == i]]) for i in range(len(centroids)))\n",
            "<ipython-input-360-eacaed9768d6>:38: DeprecationWarning: Calling np.sum(generator) is deprecated, and in the future will give a different result. Use np.sum(np.fromiter(generator)) or the python sum builtin instead.\n",
            "  new_sse = np.sum(np.sum([cosine_distance(x, centroids[i]) ** 2 for x in X[labels == i]]) for i in range(len(centroids)))\n",
            "<ipython-input-360-eacaed9768d6>:38: DeprecationWarning: Calling np.sum(generator) is deprecated, and in the future will give a different result. Use np.sum(np.fromiter(generator)) or the python sum builtin instead.\n",
            "  new_sse = np.sum(np.sum([cosine_distance(x, centroids[i]) ** 2 for x in X[labels == i]]) for i in range(len(centroids)))\n",
            "<ipython-input-360-eacaed9768d6>:38: DeprecationWarning: Calling np.sum(generator) is deprecated, and in the future will give a different result. Use np.sum(np.fromiter(generator)) or the python sum builtin instead.\n",
            "  new_sse = np.sum(np.sum([cosine_distance(x, centroids[i]) ** 2 for x in X[labels == i]]) for i in range(len(centroids)))\n",
            "<ipython-input-360-eacaed9768d6>:38: DeprecationWarning: Calling np.sum(generator) is deprecated, and in the future will give a different result. Use np.sum(np.fromiter(generator)) or the python sum builtin instead.\n",
            "  new_sse = np.sum(np.sum([cosine_distance(x, centroids[i]) ** 2 for x in X[labels == i]]) for i in range(len(centroids)))\n",
            "<ipython-input-360-eacaed9768d6>:38: DeprecationWarning: Calling np.sum(generator) is deprecated, and in the future will give a different result. Use np.sum(np.fromiter(generator)) or the python sum builtin instead.\n",
            "  new_sse = np.sum(np.sum([cosine_distance(x, centroids[i]) ** 2 for x in X[labels == i]]) for i in range(len(centroids)))\n",
            "<ipython-input-360-eacaed9768d6>:38: DeprecationWarning: Calling np.sum(generator) is deprecated, and in the future will give a different result. Use np.sum(np.fromiter(generator)) or the python sum builtin instead.\n",
            "  new_sse = np.sum(np.sum([cosine_distance(x, centroids[i]) ** 2 for x in X[labels == i]]) for i in range(len(centroids)))\n",
            "<ipython-input-360-eacaed9768d6>:38: DeprecationWarning: Calling np.sum(generator) is deprecated, and in the future will give a different result. Use np.sum(np.fromiter(generator)) or the python sum builtin instead.\n",
            "  new_sse = np.sum(np.sum([cosine_distance(x, centroids[i]) ** 2 for x in X[labels == i]]) for i in range(len(centroids)))\n",
            "<ipython-input-360-eacaed9768d6>:38: DeprecationWarning: Calling np.sum(generator) is deprecated, and in the future will give a different result. Use np.sum(np.fromiter(generator)) or the python sum builtin instead.\n",
            "  new_sse = np.sum(np.sum([cosine_distance(x, centroids[i]) ** 2 for x in X[labels == i]]) for i in range(len(centroids)))\n",
            "<ipython-input-360-eacaed9768d6>:38: DeprecationWarning: Calling np.sum(generator) is deprecated, and in the future will give a different result. Use np.sum(np.fromiter(generator)) or the python sum builtin instead.\n",
            "  new_sse = np.sum(np.sum([cosine_distance(x, centroids[i]) ** 2 for x in X[labels == i]]) for i in range(len(centroids)))\n",
            "<ipython-input-360-eacaed9768d6>:38: DeprecationWarning: Calling np.sum(generator) is deprecated, and in the future will give a different result. Use np.sum(np.fromiter(generator)) or the python sum builtin instead.\n",
            "  new_sse = np.sum(np.sum([cosine_distance(x, centroids[i]) ** 2 for x in X[labels == i]]) for i in range(len(centroids)))\n",
            "<ipython-input-360-eacaed9768d6>:38: DeprecationWarning: Calling np.sum(generator) is deprecated, and in the future will give a different result. Use np.sum(np.fromiter(generator)) or the python sum builtin instead.\n",
            "  new_sse = np.sum(np.sum([cosine_distance(x, centroids[i]) ** 2 for x in X[labels == i]]) for i in range(len(centroids)))\n",
            "<ipython-input-360-eacaed9768d6>:38: DeprecationWarning: Calling np.sum(generator) is deprecated, and in the future will give a different result. Use np.sum(np.fromiter(generator)) or the python sum builtin instead.\n",
            "  new_sse = np.sum(np.sum([cosine_distance(x, centroids[i]) ** 2 for x in X[labels == i]]) for i in range(len(centroids)))\n",
            "<ipython-input-360-eacaed9768d6>:38: DeprecationWarning: Calling np.sum(generator) is deprecated, and in the future will give a different result. Use np.sum(np.fromiter(generator)) or the python sum builtin instead.\n",
            "  new_sse = np.sum(np.sum([cosine_distance(x, centroids[i]) ** 2 for x in X[labels == i]]) for i in range(len(centroids)))\n",
            "<ipython-input-360-eacaed9768d6>:38: DeprecationWarning: Calling np.sum(generator) is deprecated, and in the future will give a different result. Use np.sum(np.fromiter(generator)) or the python sum builtin instead.\n",
            "  new_sse = np.sum(np.sum([cosine_distance(x, centroids[i]) ** 2 for x in X[labels == i]]) for i in range(len(centroids)))\n",
            "<ipython-input-360-eacaed9768d6>:38: DeprecationWarning: Calling np.sum(generator) is deprecated, and in the future will give a different result. Use np.sum(np.fromiter(generator)) or the python sum builtin instead.\n",
            "  new_sse = np.sum(np.sum([cosine_distance(x, centroids[i]) ** 2 for x in X[labels == i]]) for i in range(len(centroids)))\n",
            "<ipython-input-360-eacaed9768d6>:38: DeprecationWarning: Calling np.sum(generator) is deprecated, and in the future will give a different result. Use np.sum(np.fromiter(generator)) or the python sum builtin instead.\n",
            "  new_sse = np.sum(np.sum([cosine_distance(x, centroids[i]) ** 2 for x in X[labels == i]]) for i in range(len(centroids)))\n",
            "<ipython-input-360-eacaed9768d6>:38: DeprecationWarning: Calling np.sum(generator) is deprecated, and in the future will give a different result. Use np.sum(np.fromiter(generator)) or the python sum builtin instead.\n",
            "  new_sse = np.sum(np.sum([cosine_distance(x, centroids[i]) ** 2 for x in X[labels == i]]) for i in range(len(centroids)))\n",
            "<ipython-input-360-eacaed9768d6>:38: DeprecationWarning: Calling np.sum(generator) is deprecated, and in the future will give a different result. Use np.sum(np.fromiter(generator)) or the python sum builtin instead.\n",
            "  new_sse = np.sum(np.sum([cosine_distance(x, centroids[i]) ** 2 for x in X[labels == i]]) for i in range(len(centroids)))\n",
            "<ipython-input-360-eacaed9768d6>:38: DeprecationWarning: Calling np.sum(generator) is deprecated, and in the future will give a different result. Use np.sum(np.fromiter(generator)) or the python sum builtin instead.\n",
            "  new_sse = np.sum(np.sum([cosine_distance(x, centroids[i]) ** 2 for x in X[labels == i]]) for i in range(len(centroids)))\n",
            "<ipython-input-360-eacaed9768d6>:38: DeprecationWarning: Calling np.sum(generator) is deprecated, and in the future will give a different result. Use np.sum(np.fromiter(generator)) or the python sum builtin instead.\n",
            "  new_sse = np.sum(np.sum([cosine_distance(x, centroids[i]) ** 2 for x in X[labels == i]]) for i in range(len(centroids)))\n",
            "<ipython-input-360-eacaed9768d6>:38: DeprecationWarning: Calling np.sum(generator) is deprecated, and in the future will give a different result. Use np.sum(np.fromiter(generator)) or the python sum builtin instead.\n",
            "  new_sse = np.sum(np.sum([cosine_distance(x, centroids[i]) ** 2 for x in X[labels == i]]) for i in range(len(centroids)))\n",
            "<ipython-input-360-eacaed9768d6>:38: DeprecationWarning: Calling np.sum(generator) is deprecated, and in the future will give a different result. Use np.sum(np.fromiter(generator)) or the python sum builtin instead.\n",
            "  new_sse = np.sum(np.sum([cosine_distance(x, centroids[i]) ** 2 for x in X[labels == i]]) for i in range(len(centroids)))\n",
            "<ipython-input-360-eacaed9768d6>:38: DeprecationWarning: Calling np.sum(generator) is deprecated, and in the future will give a different result. Use np.sum(np.fromiter(generator)) or the python sum builtin instead.\n",
            "  new_sse = np.sum(np.sum([cosine_distance(x, centroids[i]) ** 2 for x in X[labels == i]]) for i in range(len(centroids)))\n",
            "<ipython-input-360-eacaed9768d6>:38: DeprecationWarning: Calling np.sum(generator) is deprecated, and in the future will give a different result. Use np.sum(np.fromiter(generator)) or the python sum builtin instead.\n",
            "  new_sse = np.sum(np.sum([cosine_distance(x, centroids[i]) ** 2 for x in X[labels == i]]) for i in range(len(centroids)))\n",
            "<ipython-input-360-eacaed9768d6>:38: DeprecationWarning: Calling np.sum(generator) is deprecated, and in the future will give a different result. Use np.sum(np.fromiter(generator)) or the python sum builtin instead.\n",
            "  new_sse = np.sum(np.sum([cosine_distance(x, centroids[i]) ** 2 for x in X[labels == i]]) for i in range(len(centroids)))\n",
            "<ipython-input-360-eacaed9768d6>:38: DeprecationWarning: Calling np.sum(generator) is deprecated, and in the future will give a different result. Use np.sum(np.fromiter(generator)) or the python sum builtin instead.\n",
            "  new_sse = np.sum(np.sum([cosine_distance(x, centroids[i]) ** 2 for x in X[labels == i]]) for i in range(len(centroids)))\n",
            "<ipython-input-360-eacaed9768d6>:38: DeprecationWarning: Calling np.sum(generator) is deprecated, and in the future will give a different result. Use np.sum(np.fromiter(generator)) or the python sum builtin instead.\n",
            "  new_sse = np.sum(np.sum([cosine_distance(x, centroids[i]) ** 2 for x in X[labels == i]]) for i in range(len(centroids)))\n",
            "<ipython-input-360-eacaed9768d6>:38: DeprecationWarning: Calling np.sum(generator) is deprecated, and in the future will give a different result. Use np.sum(np.fromiter(generator)) or the python sum builtin instead.\n",
            "  new_sse = np.sum(np.sum([cosine_distance(x, centroids[i]) ** 2 for x in X[labels == i]]) for i in range(len(centroids)))\n",
            "<ipython-input-360-eacaed9768d6>:38: DeprecationWarning: Calling np.sum(generator) is deprecated, and in the future will give a different result. Use np.sum(np.fromiter(generator)) or the python sum builtin instead.\n",
            "  new_sse = np.sum(np.sum([cosine_distance(x, centroids[i]) ** 2 for x in X[labels == i]]) for i in range(len(centroids)))\n",
            "<ipython-input-360-eacaed9768d6>:38: DeprecationWarning: Calling np.sum(generator) is deprecated, and in the future will give a different result. Use np.sum(np.fromiter(generator)) or the python sum builtin instead.\n",
            "  new_sse = np.sum(np.sum([cosine_distance(x, centroids[i]) ** 2 for x in X[labels == i]]) for i in range(len(centroids)))\n",
            "<ipython-input-360-eacaed9768d6>:38: DeprecationWarning: Calling np.sum(generator) is deprecated, and in the future will give a different result. Use np.sum(np.fromiter(generator)) or the python sum builtin instead.\n",
            "  new_sse = np.sum(np.sum([cosine_distance(x, centroids[i]) ** 2 for x in X[labels == i]]) for i in range(len(centroids)))\n",
            "<ipython-input-360-eacaed9768d6>:38: DeprecationWarning: Calling np.sum(generator) is deprecated, and in the future will give a different result. Use np.sum(np.fromiter(generator)) or the python sum builtin instead.\n",
            "  new_sse = np.sum(np.sum([cosine_distance(x, centroids[i]) ** 2 for x in X[labels == i]]) for i in range(len(centroids)))\n",
            "<ipython-input-360-eacaed9768d6>:38: DeprecationWarning: Calling np.sum(generator) is deprecated, and in the future will give a different result. Use np.sum(np.fromiter(generator)) or the python sum builtin instead.\n",
            "  new_sse = np.sum(np.sum([cosine_distance(x, centroids[i]) ** 2 for x in X[labels == i]]) for i in range(len(centroids)))\n",
            "<ipython-input-360-eacaed9768d6>:38: DeprecationWarning: Calling np.sum(generator) is deprecated, and in the future will give a different result. Use np.sum(np.fromiter(generator)) or the python sum builtin instead.\n",
            "  new_sse = np.sum(np.sum([cosine_distance(x, centroids[i]) ** 2 for x in X[labels == i]]) for i in range(len(centroids)))\n",
            "<ipython-input-360-eacaed9768d6>:38: DeprecationWarning: Calling np.sum(generator) is deprecated, and in the future will give a different result. Use np.sum(np.fromiter(generator)) or the python sum builtin instead.\n",
            "  new_sse = np.sum(np.sum([cosine_distance(x, centroids[i]) ** 2 for x in X[labels == i]]) for i in range(len(centroids)))\n",
            "<ipython-input-360-eacaed9768d6>:38: DeprecationWarning: Calling np.sum(generator) is deprecated, and in the future will give a different result. Use np.sum(np.fromiter(generator)) or the python sum builtin instead.\n",
            "  new_sse = np.sum(np.sum([cosine_distance(x, centroids[i]) ** 2 for x in X[labels == i]]) for i in range(len(centroids)))\n",
            "<ipython-input-360-eacaed9768d6>:38: DeprecationWarning: Calling np.sum(generator) is deprecated, and in the future will give a different result. Use np.sum(np.fromiter(generator)) or the python sum builtin instead.\n",
            "  new_sse = np.sum(np.sum([cosine_distance(x, centroids[i]) ** 2 for x in X[labels == i]]) for i in range(len(centroids)))\n",
            "<ipython-input-360-eacaed9768d6>:38: DeprecationWarning: Calling np.sum(generator) is deprecated, and in the future will give a different result. Use np.sum(np.fromiter(generator)) or the python sum builtin instead.\n",
            "  new_sse = np.sum(np.sum([cosine_distance(x, centroids[i]) ** 2 for x in X[labels == i]]) for i in range(len(centroids)))\n",
            "<ipython-input-360-eacaed9768d6>:38: DeprecationWarning: Calling np.sum(generator) is deprecated, and in the future will give a different result. Use np.sum(np.fromiter(generator)) or the python sum builtin instead.\n",
            "  new_sse = np.sum(np.sum([cosine_distance(x, centroids[i]) ** 2 for x in X[labels == i]]) for i in range(len(centroids)))\n",
            "<ipython-input-360-eacaed9768d6>:38: DeprecationWarning: Calling np.sum(generator) is deprecated, and in the future will give a different result. Use np.sum(np.fromiter(generator)) or the python sum builtin instead.\n",
            "  new_sse = np.sum(np.sum([cosine_distance(x, centroids[i]) ** 2 for x in X[labels == i]]) for i in range(len(centroids)))\n",
            "<ipython-input-360-eacaed9768d6>:38: DeprecationWarning: Calling np.sum(generator) is deprecated, and in the future will give a different result. Use np.sum(np.fromiter(generator)) or the python sum builtin instead.\n",
            "  new_sse = np.sum(np.sum([cosine_distance(x, centroids[i]) ** 2 for x in X[labels == i]]) for i in range(len(centroids)))\n",
            "<ipython-input-360-eacaed9768d6>:38: DeprecationWarning: Calling np.sum(generator) is deprecated, and in the future will give a different result. Use np.sum(np.fromiter(generator)) or the python sum builtin instead.\n",
            "  new_sse = np.sum(np.sum([cosine_distance(x, centroids[i]) ** 2 for x in X[labels == i]]) for i in range(len(centroids)))\n",
            "<ipython-input-360-eacaed9768d6>:38: DeprecationWarning: Calling np.sum(generator) is deprecated, and in the future will give a different result. Use np.sum(np.fromiter(generator)) or the python sum builtin instead.\n",
            "  new_sse = np.sum(np.sum([cosine_distance(x, centroids[i]) ** 2 for x in X[labels == i]]) for i in range(len(centroids)))\n",
            "<ipython-input-360-eacaed9768d6>:38: DeprecationWarning: Calling np.sum(generator) is deprecated, and in the future will give a different result. Use np.sum(np.fromiter(generator)) or the python sum builtin instead.\n",
            "  new_sse = np.sum(np.sum([cosine_distance(x, centroids[i]) ** 2 for x in X[labels == i]]) for i in range(len(centroids)))\n",
            "<ipython-input-360-eacaed9768d6>:38: DeprecationWarning: Calling np.sum(generator) is deprecated, and in the future will give a different result. Use np.sum(np.fromiter(generator)) or the python sum builtin instead.\n",
            "  new_sse = np.sum(np.sum([cosine_distance(x, centroids[i]) ** 2 for x in X[labels == i]]) for i in range(len(centroids)))\n",
            "<ipython-input-360-eacaed9768d6>:38: DeprecationWarning: Calling np.sum(generator) is deprecated, and in the future will give a different result. Use np.sum(np.fromiter(generator)) or the python sum builtin instead.\n",
            "  new_sse = np.sum(np.sum([cosine_distance(x, centroids[i]) ** 2 for x in X[labels == i]]) for i in range(len(centroids)))\n",
            "<ipython-input-360-eacaed9768d6>:38: DeprecationWarning: Calling np.sum(generator) is deprecated, and in the future will give a different result. Use np.sum(np.fromiter(generator)) or the python sum builtin instead.\n",
            "  new_sse = np.sum(np.sum([cosine_distance(x, centroids[i]) ** 2 for x in X[labels == i]]) for i in range(len(centroids)))\n",
            "<ipython-input-360-eacaed9768d6>:38: DeprecationWarning: Calling np.sum(generator) is deprecated, and in the future will give a different result. Use np.sum(np.fromiter(generator)) or the python sum builtin instead.\n",
            "  new_sse = np.sum(np.sum([cosine_distance(x, centroids[i]) ** 2 for x in X[labels == i]]) for i in range(len(centroids)))\n",
            "<ipython-input-360-eacaed9768d6>:38: DeprecationWarning: Calling np.sum(generator) is deprecated, and in the future will give a different result. Use np.sum(np.fromiter(generator)) or the python sum builtin instead.\n",
            "  new_sse = np.sum(np.sum([cosine_distance(x, centroids[i]) ** 2 for x in X[labels == i]]) for i in range(len(centroids)))\n",
            "<ipython-input-360-eacaed9768d6>:38: DeprecationWarning: Calling np.sum(generator) is deprecated, and in the future will give a different result. Use np.sum(np.fromiter(generator)) or the python sum builtin instead.\n",
            "  new_sse = np.sum(np.sum([cosine_distance(x, centroids[i]) ** 2 for x in X[labels == i]]) for i in range(len(centroids)))\n",
            "<ipython-input-360-eacaed9768d6>:38: DeprecationWarning: Calling np.sum(generator) is deprecated, and in the future will give a different result. Use np.sum(np.fromiter(generator)) or the python sum builtin instead.\n",
            "  new_sse = np.sum(np.sum([cosine_distance(x, centroids[i]) ** 2 for x in X[labels == i]]) for i in range(len(centroids)))\n",
            "<ipython-input-360-eacaed9768d6>:38: DeprecationWarning: Calling np.sum(generator) is deprecated, and in the future will give a different result. Use np.sum(np.fromiter(generator)) or the python sum builtin instead.\n",
            "  new_sse = np.sum(np.sum([cosine_distance(x, centroids[i]) ** 2 for x in X[labels == i]]) for i in range(len(centroids)))\n",
            "<ipython-input-360-eacaed9768d6>:38: DeprecationWarning: Calling np.sum(generator) is deprecated, and in the future will give a different result. Use np.sum(np.fromiter(generator)) or the python sum builtin instead.\n",
            "  new_sse = np.sum(np.sum([cosine_distance(x, centroids[i]) ** 2 for x in X[labels == i]]) for i in range(len(centroids)))\n",
            "<ipython-input-360-eacaed9768d6>:38: DeprecationWarning: Calling np.sum(generator) is deprecated, and in the future will give a different result. Use np.sum(np.fromiter(generator)) or the python sum builtin instead.\n",
            "  new_sse = np.sum(np.sum([cosine_distance(x, centroids[i]) ** 2 for x in X[labels == i]]) for i in range(len(centroids)))\n",
            "<ipython-input-360-eacaed9768d6>:38: DeprecationWarning: Calling np.sum(generator) is deprecated, and in the future will give a different result. Use np.sum(np.fromiter(generator)) or the python sum builtin instead.\n",
            "  new_sse = np.sum(np.sum([cosine_distance(x, centroids[i]) ** 2 for x in X[labels == i]]) for i in range(len(centroids)))\n",
            "<ipython-input-360-eacaed9768d6>:38: DeprecationWarning: Calling np.sum(generator) is deprecated, and in the future will give a different result. Use np.sum(np.fromiter(generator)) or the python sum builtin instead.\n",
            "  new_sse = np.sum(np.sum([cosine_distance(x, centroids[i]) ** 2 for x in X[labels == i]]) for i in range(len(centroids)))\n",
            "<ipython-input-360-eacaed9768d6>:38: DeprecationWarning: Calling np.sum(generator) is deprecated, and in the future will give a different result. Use np.sum(np.fromiter(generator)) or the python sum builtin instead.\n",
            "  new_sse = np.sum(np.sum([cosine_distance(x, centroids[i]) ** 2 for x in X[labels == i]]) for i in range(len(centroids)))\n",
            "<ipython-input-360-eacaed9768d6>:38: DeprecationWarning: Calling np.sum(generator) is deprecated, and in the future will give a different result. Use np.sum(np.fromiter(generator)) or the python sum builtin instead.\n",
            "  new_sse = np.sum(np.sum([cosine_distance(x, centroids[i]) ** 2 for x in X[labels == i]]) for i in range(len(centroids)))\n",
            "<ipython-input-360-eacaed9768d6>:38: DeprecationWarning: Calling np.sum(generator) is deprecated, and in the future will give a different result. Use np.sum(np.fromiter(generator)) or the python sum builtin instead.\n",
            "  new_sse = np.sum(np.sum([cosine_distance(x, centroids[i]) ** 2 for x in X[labels == i]]) for i in range(len(centroids)))\n",
            "<ipython-input-360-eacaed9768d6>:38: DeprecationWarning: Calling np.sum(generator) is deprecated, and in the future will give a different result. Use np.sum(np.fromiter(generator)) or the python sum builtin instead.\n",
            "  new_sse = np.sum(np.sum([cosine_distance(x, centroids[i]) ** 2 for x in X[labels == i]]) for i in range(len(centroids)))\n",
            "<ipython-input-360-eacaed9768d6>:38: DeprecationWarning: Calling np.sum(generator) is deprecated, and in the future will give a different result. Use np.sum(np.fromiter(generator)) or the python sum builtin instead.\n",
            "  new_sse = np.sum(np.sum([cosine_distance(x, centroids[i]) ** 2 for x in X[labels == i]]) for i in range(len(centroids)))\n",
            "<ipython-input-360-eacaed9768d6>:38: DeprecationWarning: Calling np.sum(generator) is deprecated, and in the future will give a different result. Use np.sum(np.fromiter(generator)) or the python sum builtin instead.\n",
            "  new_sse = np.sum(np.sum([cosine_distance(x, centroids[i]) ** 2 for x in X[labels == i]]) for i in range(len(centroids)))\n",
            "<ipython-input-360-eacaed9768d6>:38: DeprecationWarning: Calling np.sum(generator) is deprecated, and in the future will give a different result. Use np.sum(np.fromiter(generator)) or the python sum builtin instead.\n",
            "  new_sse = np.sum(np.sum([cosine_distance(x, centroids[i]) ** 2 for x in X[labels == i]]) for i in range(len(centroids)))\n",
            "<ipython-input-360-eacaed9768d6>:38: DeprecationWarning: Calling np.sum(generator) is deprecated, and in the future will give a different result. Use np.sum(np.fromiter(generator)) or the python sum builtin instead.\n",
            "  new_sse = np.sum(np.sum([cosine_distance(x, centroids[i]) ** 2 for x in X[labels == i]]) for i in range(len(centroids)))\n",
            "<ipython-input-360-eacaed9768d6>:38: DeprecationWarning: Calling np.sum(generator) is deprecated, and in the future will give a different result. Use np.sum(np.fromiter(generator)) or the python sum builtin instead.\n",
            "  new_sse = np.sum(np.sum([cosine_distance(x, centroids[i]) ** 2 for x in X[labels == i]]) for i in range(len(centroids)))\n",
            "<ipython-input-360-eacaed9768d6>:38: DeprecationWarning: Calling np.sum(generator) is deprecated, and in the future will give a different result. Use np.sum(np.fromiter(generator)) or the python sum builtin instead.\n",
            "  new_sse = np.sum(np.sum([cosine_distance(x, centroids[i]) ** 2 for x in X[labels == i]]) for i in range(len(centroids)))\n",
            "<ipython-input-360-eacaed9768d6>:38: DeprecationWarning: Calling np.sum(generator) is deprecated, and in the future will give a different result. Use np.sum(np.fromiter(generator)) or the python sum builtin instead.\n",
            "  new_sse = np.sum(np.sum([cosine_distance(x, centroids[i]) ** 2 for x in X[labels == i]]) for i in range(len(centroids)))\n",
            "<ipython-input-360-eacaed9768d6>:38: DeprecationWarning: Calling np.sum(generator) is deprecated, and in the future will give a different result. Use np.sum(np.fromiter(generator)) or the python sum builtin instead.\n",
            "  new_sse = np.sum(np.sum([cosine_distance(x, centroids[i]) ** 2 for x in X[labels == i]]) for i in range(len(centroids)))\n",
            "<ipython-input-360-eacaed9768d6>:38: DeprecationWarning: Calling np.sum(generator) is deprecated, and in the future will give a different result. Use np.sum(np.fromiter(generator)) or the python sum builtin instead.\n",
            "  new_sse = np.sum(np.sum([cosine_distance(x, centroids[i]) ** 2 for x in X[labels == i]]) for i in range(len(centroids)))\n",
            "<ipython-input-360-eacaed9768d6>:38: DeprecationWarning: Calling np.sum(generator) is deprecated, and in the future will give a different result. Use np.sum(np.fromiter(generator)) or the python sum builtin instead.\n",
            "  new_sse = np.sum(np.sum([cosine_distance(x, centroids[i]) ** 2 for x in X[labels == i]]) for i in range(len(centroids)))\n",
            "<ipython-input-360-eacaed9768d6>:38: DeprecationWarning: Calling np.sum(generator) is deprecated, and in the future will give a different result. Use np.sum(np.fromiter(generator)) or the python sum builtin instead.\n",
            "  new_sse = np.sum(np.sum([cosine_distance(x, centroids[i]) ** 2 for x in X[labels == i]]) for i in range(len(centroids)))\n",
            "<ipython-input-360-eacaed9768d6>:38: DeprecationWarning: Calling np.sum(generator) is deprecated, and in the future will give a different result. Use np.sum(np.fromiter(generator)) or the python sum builtin instead.\n",
            "  new_sse = np.sum(np.sum([cosine_distance(x, centroids[i]) ** 2 for x in X[labels == i]]) for i in range(len(centroids)))\n",
            "<ipython-input-360-eacaed9768d6>:38: DeprecationWarning: Calling np.sum(generator) is deprecated, and in the future will give a different result. Use np.sum(np.fromiter(generator)) or the python sum builtin instead.\n",
            "  new_sse = np.sum(np.sum([cosine_distance(x, centroids[i]) ** 2 for x in X[labels == i]]) for i in range(len(centroids)))\n",
            "<ipython-input-360-eacaed9768d6>:38: DeprecationWarning: Calling np.sum(generator) is deprecated, and in the future will give a different result. Use np.sum(np.fromiter(generator)) or the python sum builtin instead.\n",
            "  new_sse = np.sum(np.sum([cosine_distance(x, centroids[i]) ** 2 for x in X[labels == i]]) for i in range(len(centroids)))\n",
            "<ipython-input-360-eacaed9768d6>:38: DeprecationWarning: Calling np.sum(generator) is deprecated, and in the future will give a different result. Use np.sum(np.fromiter(generator)) or the python sum builtin instead.\n",
            "  new_sse = np.sum(np.sum([cosine_distance(x, centroids[i]) ** 2 for x in X[labels == i]]) for i in range(len(centroids)))\n",
            "<ipython-input-360-eacaed9768d6>:38: DeprecationWarning: Calling np.sum(generator) is deprecated, and in the future will give a different result. Use np.sum(np.fromiter(generator)) or the python sum builtin instead.\n",
            "  new_sse = np.sum(np.sum([cosine_distance(x, centroids[i]) ** 2 for x in X[labels == i]]) for i in range(len(centroids)))\n",
            "<ipython-input-360-eacaed9768d6>:38: DeprecationWarning: Calling np.sum(generator) is deprecated, and in the future will give a different result. Use np.sum(np.fromiter(generator)) or the python sum builtin instead.\n",
            "  new_sse = np.sum(np.sum([cosine_distance(x, centroids[i]) ** 2 for x in X[labels == i]]) for i in range(len(centroids)))\n",
            "<ipython-input-360-eacaed9768d6>:38: DeprecationWarning: Calling np.sum(generator) is deprecated, and in the future will give a different result. Use np.sum(np.fromiter(generator)) or the python sum builtin instead.\n",
            "  new_sse = np.sum(np.sum([cosine_distance(x, centroids[i]) ** 2 for x in X[labels == i]]) for i in range(len(centroids)))\n",
            "<ipython-input-360-eacaed9768d6>:38: DeprecationWarning: Calling np.sum(generator) is deprecated, and in the future will give a different result. Use np.sum(np.fromiter(generator)) or the python sum builtin instead.\n",
            "  new_sse = np.sum(np.sum([cosine_distance(x, centroids[i]) ** 2 for x in X[labels == i]]) for i in range(len(centroids)))\n",
            "<ipython-input-360-eacaed9768d6>:38: DeprecationWarning: Calling np.sum(generator) is deprecated, and in the future will give a different result. Use np.sum(np.fromiter(generator)) or the python sum builtin instead.\n",
            "  new_sse = np.sum(np.sum([cosine_distance(x, centroids[i]) ** 2 for x in X[labels == i]]) for i in range(len(centroids)))\n",
            "<ipython-input-360-eacaed9768d6>:38: DeprecationWarning: Calling np.sum(generator) is deprecated, and in the future will give a different result. Use np.sum(np.fromiter(generator)) or the python sum builtin instead.\n",
            "  new_sse = np.sum(np.sum([cosine_distance(x, centroids[i]) ** 2 for x in X[labels == i]]) for i in range(len(centroids)))\n",
            "<ipython-input-360-eacaed9768d6>:38: DeprecationWarning: Calling np.sum(generator) is deprecated, and in the future will give a different result. Use np.sum(np.fromiter(generator)) or the python sum builtin instead.\n",
            "  new_sse = np.sum(np.sum([cosine_distance(x, centroids[i]) ** 2 for x in X[labels == i]]) for i in range(len(centroids)))\n",
            "<ipython-input-360-eacaed9768d6>:38: DeprecationWarning: Calling np.sum(generator) is deprecated, and in the future will give a different result. Use np.sum(np.fromiter(generator)) or the python sum builtin instead.\n",
            "  new_sse = np.sum(np.sum([cosine_distance(x, centroids[i]) ** 2 for x in X[labels == i]]) for i in range(len(centroids)))\n",
            "<ipython-input-360-eacaed9768d6>:38: DeprecationWarning: Calling np.sum(generator) is deprecated, and in the future will give a different result. Use np.sum(np.fromiter(generator)) or the python sum builtin instead.\n",
            "  new_sse = np.sum(np.sum([cosine_distance(x, centroids[i]) ** 2 for x in X[labels == i]]) for i in range(len(centroids)))\n",
            "<ipython-input-360-eacaed9768d6>:38: DeprecationWarning: Calling np.sum(generator) is deprecated, and in the future will give a different result. Use np.sum(np.fromiter(generator)) or the python sum builtin instead.\n",
            "  new_sse = np.sum(np.sum([cosine_distance(x, centroids[i]) ** 2 for x in X[labels == i]]) for i in range(len(centroids)))\n",
            "<ipython-input-360-eacaed9768d6>:38: DeprecationWarning: Calling np.sum(generator) is deprecated, and in the future will give a different result. Use np.sum(np.fromiter(generator)) or the python sum builtin instead.\n",
            "  new_sse = np.sum(np.sum([cosine_distance(x, centroids[i]) ** 2 for x in X[labels == i]]) for i in range(len(centroids)))\n",
            "<ipython-input-360-eacaed9768d6>:38: DeprecationWarning: Calling np.sum(generator) is deprecated, and in the future will give a different result. Use np.sum(np.fromiter(generator)) or the python sum builtin instead.\n",
            "  new_sse = np.sum(np.sum([cosine_distance(x, centroids[i]) ** 2 for x in X[labels == i]]) for i in range(len(centroids)))\n",
            "<ipython-input-360-eacaed9768d6>:38: DeprecationWarning: Calling np.sum(generator) is deprecated, and in the future will give a different result. Use np.sum(np.fromiter(generator)) or the python sum builtin instead.\n",
            "  new_sse = np.sum(np.sum([cosine_distance(x, centroids[i]) ** 2 for x in X[labels == i]]) for i in range(len(centroids)))\n",
            "<ipython-input-360-eacaed9768d6>:38: DeprecationWarning: Calling np.sum(generator) is deprecated, and in the future will give a different result. Use np.sum(np.fromiter(generator)) or the python sum builtin instead.\n",
            "  new_sse = np.sum(np.sum([cosine_distance(x, centroids[i]) ** 2 for x in X[labels == i]]) for i in range(len(centroids)))\n",
            "<ipython-input-360-eacaed9768d6>:38: DeprecationWarning: Calling np.sum(generator) is deprecated, and in the future will give a different result. Use np.sum(np.fromiter(generator)) or the python sum builtin instead.\n",
            "  new_sse = np.sum(np.sum([cosine_distance(x, centroids[i]) ** 2 for x in X[labels == i]]) for i in range(len(centroids)))\n",
            "<ipython-input-360-eacaed9768d6>:38: DeprecationWarning: Calling np.sum(generator) is deprecated, and in the future will give a different result. Use np.sum(np.fromiter(generator)) or the python sum builtin instead.\n",
            "  new_sse = np.sum(np.sum([cosine_distance(x, centroids[i]) ** 2 for x in X[labels == i]]) for i in range(len(centroids)))\n",
            "<ipython-input-360-eacaed9768d6>:38: DeprecationWarning: Calling np.sum(generator) is deprecated, and in the future will give a different result. Use np.sum(np.fromiter(generator)) or the python sum builtin instead.\n",
            "  new_sse = np.sum(np.sum([cosine_distance(x, centroids[i]) ** 2 for x in X[labels == i]]) for i in range(len(centroids)))\n",
            "<ipython-input-360-eacaed9768d6>:38: DeprecationWarning: Calling np.sum(generator) is deprecated, and in the future will give a different result. Use np.sum(np.fromiter(generator)) or the python sum builtin instead.\n",
            "  new_sse = np.sum(np.sum([cosine_distance(x, centroids[i]) ** 2 for x in X[labels == i]]) for i in range(len(centroids)))\n",
            "<ipython-input-360-eacaed9768d6>:38: DeprecationWarning: Calling np.sum(generator) is deprecated, and in the future will give a different result. Use np.sum(np.fromiter(generator)) or the python sum builtin instead.\n",
            "  new_sse = np.sum(np.sum([cosine_distance(x, centroids[i]) ** 2 for x in X[labels == i]]) for i in range(len(centroids)))\n",
            "<ipython-input-360-eacaed9768d6>:38: DeprecationWarning: Calling np.sum(generator) is deprecated, and in the future will give a different result. Use np.sum(np.fromiter(generator)) or the python sum builtin instead.\n",
            "  new_sse = np.sum(np.sum([cosine_distance(x, centroids[i]) ** 2 for x in X[labels == i]]) for i in range(len(centroids)))\n",
            "<ipython-input-360-eacaed9768d6>:38: DeprecationWarning: Calling np.sum(generator) is deprecated, and in the future will give a different result. Use np.sum(np.fromiter(generator)) or the python sum builtin instead.\n",
            "  new_sse = np.sum(np.sum([cosine_distance(x, centroids[i]) ** 2 for x in X[labels == i]]) for i in range(len(centroids)))\n",
            "<ipython-input-360-eacaed9768d6>:38: DeprecationWarning: Calling np.sum(generator) is deprecated, and in the future will give a different result. Use np.sum(np.fromiter(generator)) or the python sum builtin instead.\n",
            "  new_sse = np.sum(np.sum([cosine_distance(x, centroids[i]) ** 2 for x in X[labels == i]]) for i in range(len(centroids)))\n",
            "<ipython-input-360-eacaed9768d6>:38: DeprecationWarning: Calling np.sum(generator) is deprecated, and in the future will give a different result. Use np.sum(np.fromiter(generator)) or the python sum builtin instead.\n",
            "  new_sse = np.sum(np.sum([cosine_distance(x, centroids[i]) ** 2 for x in X[labels == i]]) for i in range(len(centroids)))\n",
            "<ipython-input-360-eacaed9768d6>:38: DeprecationWarning: Calling np.sum(generator) is deprecated, and in the future will give a different result. Use np.sum(np.fromiter(generator)) or the python sum builtin instead.\n",
            "  new_sse = np.sum(np.sum([cosine_distance(x, centroids[i]) ** 2 for x in X[labels == i]]) for i in range(len(centroids)))\n",
            "<ipython-input-360-eacaed9768d6>:38: DeprecationWarning: Calling np.sum(generator) is deprecated, and in the future will give a different result. Use np.sum(np.fromiter(generator)) or the python sum builtin instead.\n",
            "  new_sse = np.sum(np.sum([cosine_distance(x, centroids[i]) ** 2 for x in X[labels == i]]) for i in range(len(centroids)))\n",
            "<ipython-input-360-eacaed9768d6>:38: DeprecationWarning: Calling np.sum(generator) is deprecated, and in the future will give a different result. Use np.sum(np.fromiter(generator)) or the python sum builtin instead.\n",
            "  new_sse = np.sum(np.sum([cosine_distance(x, centroids[i]) ** 2 for x in X[labels == i]]) for i in range(len(centroids)))\n",
            "<ipython-input-360-eacaed9768d6>:38: DeprecationWarning: Calling np.sum(generator) is deprecated, and in the future will give a different result. Use np.sum(np.fromiter(generator)) or the python sum builtin instead.\n",
            "  new_sse = np.sum(np.sum([cosine_distance(x, centroids[i]) ** 2 for x in X[labels == i]]) for i in range(len(centroids)))\n",
            "<ipython-input-360-eacaed9768d6>:38: DeprecationWarning: Calling np.sum(generator) is deprecated, and in the future will give a different result. Use np.sum(np.fromiter(generator)) or the python sum builtin instead.\n",
            "  new_sse = np.sum(np.sum([cosine_distance(x, centroids[i]) ** 2 for x in X[labels == i]]) for i in range(len(centroids)))\n",
            "<ipython-input-360-eacaed9768d6>:38: DeprecationWarning: Calling np.sum(generator) is deprecated, and in the future will give a different result. Use np.sum(np.fromiter(generator)) or the python sum builtin instead.\n",
            "  new_sse = np.sum(np.sum([cosine_distance(x, centroids[i]) ** 2 for x in X[labels == i]]) for i in range(len(centroids)))\n",
            "<ipython-input-360-eacaed9768d6>:38: DeprecationWarning: Calling np.sum(generator) is deprecated, and in the future will give a different result. Use np.sum(np.fromiter(generator)) or the python sum builtin instead.\n",
            "  new_sse = np.sum(np.sum([cosine_distance(x, centroids[i]) ** 2 for x in X[labels == i]]) for i in range(len(centroids)))\n",
            "<ipython-input-360-eacaed9768d6>:38: DeprecationWarning: Calling np.sum(generator) is deprecated, and in the future will give a different result. Use np.sum(np.fromiter(generator)) or the python sum builtin instead.\n",
            "  new_sse = np.sum(np.sum([cosine_distance(x, centroids[i]) ** 2 for x in X[labels == i]]) for i in range(len(centroids)))\n",
            "<ipython-input-360-eacaed9768d6>:38: DeprecationWarning: Calling np.sum(generator) is deprecated, and in the future will give a different result. Use np.sum(np.fromiter(generator)) or the python sum builtin instead.\n",
            "  new_sse = np.sum(np.sum([cosine_distance(x, centroids[i]) ** 2 for x in X[labels == i]]) for i in range(len(centroids)))\n",
            "<ipython-input-360-eacaed9768d6>:38: DeprecationWarning: Calling np.sum(generator) is deprecated, and in the future will give a different result. Use np.sum(np.fromiter(generator)) or the python sum builtin instead.\n",
            "  new_sse = np.sum(np.sum([cosine_distance(x, centroids[i]) ** 2 for x in X[labels == i]]) for i in range(len(centroids)))\n",
            "<ipython-input-360-eacaed9768d6>:38: DeprecationWarning: Calling np.sum(generator) is deprecated, and in the future will give a different result. Use np.sum(np.fromiter(generator)) or the python sum builtin instead.\n",
            "  new_sse = np.sum(np.sum([cosine_distance(x, centroids[i]) ** 2 for x in X[labels == i]]) for i in range(len(centroids)))\n",
            "<ipython-input-360-eacaed9768d6>:38: DeprecationWarning: Calling np.sum(generator) is deprecated, and in the future will give a different result. Use np.sum(np.fromiter(generator)) or the python sum builtin instead.\n",
            "  new_sse = np.sum(np.sum([cosine_distance(x, centroids[i]) ** 2 for x in X[labels == i]]) for i in range(len(centroids)))\n",
            "<ipython-input-360-eacaed9768d6>:38: DeprecationWarning: Calling np.sum(generator) is deprecated, and in the future will give a different result. Use np.sum(np.fromiter(generator)) or the python sum builtin instead.\n",
            "  new_sse = np.sum(np.sum([cosine_distance(x, centroids[i]) ** 2 for x in X[labels == i]]) for i in range(len(centroids)))\n",
            "<ipython-input-360-eacaed9768d6>:38: DeprecationWarning: Calling np.sum(generator) is deprecated, and in the future will give a different result. Use np.sum(np.fromiter(generator)) or the python sum builtin instead.\n",
            "  new_sse = np.sum(np.sum([cosine_distance(x, centroids[i]) ** 2 for x in X[labels == i]]) for i in range(len(centroids)))\n",
            "<ipython-input-360-eacaed9768d6>:38: DeprecationWarning: Calling np.sum(generator) is deprecated, and in the future will give a different result. Use np.sum(np.fromiter(generator)) or the python sum builtin instead.\n",
            "  new_sse = np.sum(np.sum([cosine_distance(x, centroids[i]) ** 2 for x in X[labels == i]]) for i in range(len(centroids)))\n",
            "<ipython-input-360-eacaed9768d6>:38: DeprecationWarning: Calling np.sum(generator) is deprecated, and in the future will give a different result. Use np.sum(np.fromiter(generator)) or the python sum builtin instead.\n",
            "  new_sse = np.sum(np.sum([cosine_distance(x, centroids[i]) ** 2 for x in X[labels == i]]) for i in range(len(centroids)))\n",
            "<ipython-input-360-eacaed9768d6>:38: DeprecationWarning: Calling np.sum(generator) is deprecated, and in the future will give a different result. Use np.sum(np.fromiter(generator)) or the python sum builtin instead.\n",
            "  new_sse = np.sum(np.sum([cosine_distance(x, centroids[i]) ** 2 for x in X[labels == i]]) for i in range(len(centroids)))\n",
            "<ipython-input-360-eacaed9768d6>:38: DeprecationWarning: Calling np.sum(generator) is deprecated, and in the future will give a different result. Use np.sum(np.fromiter(generator)) or the python sum builtin instead.\n",
            "  new_sse = np.sum(np.sum([cosine_distance(x, centroids[i]) ** 2 for x in X[labels == i]]) for i in range(len(centroids)))\n",
            "<ipython-input-360-eacaed9768d6>:38: DeprecationWarning: Calling np.sum(generator) is deprecated, and in the future will give a different result. Use np.sum(np.fromiter(generator)) or the python sum builtin instead.\n",
            "  new_sse = np.sum(np.sum([cosine_distance(x, centroids[i]) ** 2 for x in X[labels == i]]) for i in range(len(centroids)))\n",
            "<ipython-input-360-eacaed9768d6>:38: DeprecationWarning: Calling np.sum(generator) is deprecated, and in the future will give a different result. Use np.sum(np.fromiter(generator)) or the python sum builtin instead.\n",
            "  new_sse = np.sum(np.sum([cosine_distance(x, centroids[i]) ** 2 for x in X[labels == i]]) for i in range(len(centroids)))\n",
            "<ipython-input-360-eacaed9768d6>:38: DeprecationWarning: Calling np.sum(generator) is deprecated, and in the future will give a different result. Use np.sum(np.fromiter(generator)) or the python sum builtin instead.\n",
            "  new_sse = np.sum(np.sum([cosine_distance(x, centroids[i]) ** 2 for x in X[labels == i]]) for i in range(len(centroids)))\n",
            "<ipython-input-360-eacaed9768d6>:38: DeprecationWarning: Calling np.sum(generator) is deprecated, and in the future will give a different result. Use np.sum(np.fromiter(generator)) or the python sum builtin instead.\n",
            "  new_sse = np.sum(np.sum([cosine_distance(x, centroids[i]) ** 2 for x in X[labels == i]]) for i in range(len(centroids)))\n",
            "<ipython-input-360-eacaed9768d6>:38: DeprecationWarning: Calling np.sum(generator) is deprecated, and in the future will give a different result. Use np.sum(np.fromiter(generator)) or the python sum builtin instead.\n",
            "  new_sse = np.sum(np.sum([cosine_distance(x, centroids[i]) ** 2 for x in X[labels == i]]) for i in range(len(centroids)))\n",
            "<ipython-input-360-eacaed9768d6>:38: DeprecationWarning: Calling np.sum(generator) is deprecated, and in the future will give a different result. Use np.sum(np.fromiter(generator)) or the python sum builtin instead.\n",
            "  new_sse = np.sum(np.sum([cosine_distance(x, centroids[i]) ** 2 for x in X[labels == i]]) for i in range(len(centroids)))\n",
            "<ipython-input-360-eacaed9768d6>:38: DeprecationWarning: Calling np.sum(generator) is deprecated, and in the future will give a different result. Use np.sum(np.fromiter(generator)) or the python sum builtin instead.\n",
            "  new_sse = np.sum(np.sum([cosine_distance(x, centroids[i]) ** 2 for x in X[labels == i]]) for i in range(len(centroids)))\n",
            "<ipython-input-360-eacaed9768d6>:38: DeprecationWarning: Calling np.sum(generator) is deprecated, and in the future will give a different result. Use np.sum(np.fromiter(generator)) or the python sum builtin instead.\n",
            "  new_sse = np.sum(np.sum([cosine_distance(x, centroids[i]) ** 2 for x in X[labels == i]]) for i in range(len(centroids)))\n",
            "<ipython-input-360-eacaed9768d6>:38: DeprecationWarning: Calling np.sum(generator) is deprecated, and in the future will give a different result. Use np.sum(np.fromiter(generator)) or the python sum builtin instead.\n",
            "  new_sse = np.sum(np.sum([cosine_distance(x, centroids[i]) ** 2 for x in X[labels == i]]) for i in range(len(centroids)))\n",
            "<ipython-input-360-eacaed9768d6>:38: DeprecationWarning: Calling np.sum(generator) is deprecated, and in the future will give a different result. Use np.sum(np.fromiter(generator)) or the python sum builtin instead.\n",
            "  new_sse = np.sum(np.sum([cosine_distance(x, centroids[i]) ** 2 for x in X[labels == i]]) for i in range(len(centroids)))\n",
            "<ipython-input-360-eacaed9768d6>:38: DeprecationWarning: Calling np.sum(generator) is deprecated, and in the future will give a different result. Use np.sum(np.fromiter(generator)) or the python sum builtin instead.\n",
            "  new_sse = np.sum(np.sum([cosine_distance(x, centroids[i]) ** 2 for x in X[labels == i]]) for i in range(len(centroids)))\n",
            "<ipython-input-360-eacaed9768d6>:38: DeprecationWarning: Calling np.sum(generator) is deprecated, and in the future will give a different result. Use np.sum(np.fromiter(generator)) or the python sum builtin instead.\n",
            "  new_sse = np.sum(np.sum([cosine_distance(x, centroids[i]) ** 2 for x in X[labels == i]]) for i in range(len(centroids)))\n",
            "<ipython-input-360-eacaed9768d6>:38: DeprecationWarning: Calling np.sum(generator) is deprecated, and in the future will give a different result. Use np.sum(np.fromiter(generator)) or the python sum builtin instead.\n",
            "  new_sse = np.sum(np.sum([cosine_distance(x, centroids[i]) ** 2 for x in X[labels == i]]) for i in range(len(centroids)))\n",
            "<ipython-input-360-eacaed9768d6>:38: DeprecationWarning: Calling np.sum(generator) is deprecated, and in the future will give a different result. Use np.sum(np.fromiter(generator)) or the python sum builtin instead.\n",
            "  new_sse = np.sum(np.sum([cosine_distance(x, centroids[i]) ** 2 for x in X[labels == i]]) for i in range(len(centroids)))\n",
            "<ipython-input-360-eacaed9768d6>:38: DeprecationWarning: Calling np.sum(generator) is deprecated, and in the future will give a different result. Use np.sum(np.fromiter(generator)) or the python sum builtin instead.\n",
            "  new_sse = np.sum(np.sum([cosine_distance(x, centroids[i]) ** 2 for x in X[labels == i]]) for i in range(len(centroids)))\n",
            "<ipython-input-360-eacaed9768d6>:38: DeprecationWarning: Calling np.sum(generator) is deprecated, and in the future will give a different result. Use np.sum(np.fromiter(generator)) or the python sum builtin instead.\n",
            "  new_sse = np.sum(np.sum([cosine_distance(x, centroids[i]) ** 2 for x in X[labels == i]]) for i in range(len(centroids)))\n",
            "<ipython-input-360-eacaed9768d6>:38: DeprecationWarning: Calling np.sum(generator) is deprecated, and in the future will give a different result. Use np.sum(np.fromiter(generator)) or the python sum builtin instead.\n",
            "  new_sse = np.sum(np.sum([cosine_distance(x, centroids[i]) ** 2 for x in X[labels == i]]) for i in range(len(centroids)))\n",
            "<ipython-input-360-eacaed9768d6>:38: DeprecationWarning: Calling np.sum(generator) is deprecated, and in the future will give a different result. Use np.sum(np.fromiter(generator)) or the python sum builtin instead.\n",
            "  new_sse = np.sum(np.sum([cosine_distance(x, centroids[i]) ** 2 for x in X[labels == i]]) for i in range(len(centroids)))\n",
            "<ipython-input-360-eacaed9768d6>:38: DeprecationWarning: Calling np.sum(generator) is deprecated, and in the future will give a different result. Use np.sum(np.fromiter(generator)) or the python sum builtin instead.\n",
            "  new_sse = np.sum(np.sum([cosine_distance(x, centroids[i]) ** 2 for x in X[labels == i]]) for i in range(len(centroids)))\n",
            "<ipython-input-360-eacaed9768d6>:38: DeprecationWarning: Calling np.sum(generator) is deprecated, and in the future will give a different result. Use np.sum(np.fromiter(generator)) or the python sum builtin instead.\n",
            "  new_sse = np.sum(np.sum([cosine_distance(x, centroids[i]) ** 2 for x in X[labels == i]]) for i in range(len(centroids)))\n",
            "<ipython-input-360-eacaed9768d6>:38: DeprecationWarning: Calling np.sum(generator) is deprecated, and in the future will give a different result. Use np.sum(np.fromiter(generator)) or the python sum builtin instead.\n",
            "  new_sse = np.sum(np.sum([cosine_distance(x, centroids[i]) ** 2 for x in X[labels == i]]) for i in range(len(centroids)))\n",
            "<ipython-input-360-eacaed9768d6>:38: DeprecationWarning: Calling np.sum(generator) is deprecated, and in the future will give a different result. Use np.sum(np.fromiter(generator)) or the python sum builtin instead.\n",
            "  new_sse = np.sum(np.sum([cosine_distance(x, centroids[i]) ** 2 for x in X[labels == i]]) for i in range(len(centroids)))\n",
            "<ipython-input-360-eacaed9768d6>:38: DeprecationWarning: Calling np.sum(generator) is deprecated, and in the future will give a different result. Use np.sum(np.fromiter(generator)) or the python sum builtin instead.\n",
            "  new_sse = np.sum(np.sum([cosine_distance(x, centroids[i]) ** 2 for x in X[labels == i]]) for i in range(len(centroids)))\n",
            "<ipython-input-360-eacaed9768d6>:38: DeprecationWarning: Calling np.sum(generator) is deprecated, and in the future will give a different result. Use np.sum(np.fromiter(generator)) or the python sum builtin instead.\n",
            "  new_sse = np.sum(np.sum([cosine_distance(x, centroids[i]) ** 2 for x in X[labels == i]]) for i in range(len(centroids)))\n",
            "<ipython-input-360-eacaed9768d6>:38: DeprecationWarning: Calling np.sum(generator) is deprecated, and in the future will give a different result. Use np.sum(np.fromiter(generator)) or the python sum builtin instead.\n",
            "  new_sse = np.sum(np.sum([cosine_distance(x, centroids[i]) ** 2 for x in X[labels == i]]) for i in range(len(centroids)))\n",
            "<ipython-input-360-eacaed9768d6>:38: DeprecationWarning: Calling np.sum(generator) is deprecated, and in the future will give a different result. Use np.sum(np.fromiter(generator)) or the python sum builtin instead.\n",
            "  new_sse = np.sum(np.sum([cosine_distance(x, centroids[i]) ** 2 for x in X[labels == i]]) for i in range(len(centroids)))\n",
            "<ipython-input-360-eacaed9768d6>:38: DeprecationWarning: Calling np.sum(generator) is deprecated, and in the future will give a different result. Use np.sum(np.fromiter(generator)) or the python sum builtin instead.\n",
            "  new_sse = np.sum(np.sum([cosine_distance(x, centroids[i]) ** 2 for x in X[labels == i]]) for i in range(len(centroids)))\n",
            "<ipython-input-360-eacaed9768d6>:38: DeprecationWarning: Calling np.sum(generator) is deprecated, and in the future will give a different result. Use np.sum(np.fromiter(generator)) or the python sum builtin instead.\n",
            "  new_sse = np.sum(np.sum([cosine_distance(x, centroids[i]) ** 2 for x in X[labels == i]]) for i in range(len(centroids)))\n",
            "<ipython-input-360-eacaed9768d6>:38: DeprecationWarning: Calling np.sum(generator) is deprecated, and in the future will give a different result. Use np.sum(np.fromiter(generator)) or the python sum builtin instead.\n",
            "  new_sse = np.sum(np.sum([cosine_distance(x, centroids[i]) ** 2 for x in X[labels == i]]) for i in range(len(centroids)))\n",
            "<ipython-input-360-eacaed9768d6>:38: DeprecationWarning: Calling np.sum(generator) is deprecated, and in the future will give a different result. Use np.sum(np.fromiter(generator)) or the python sum builtin instead.\n",
            "  new_sse = np.sum(np.sum([cosine_distance(x, centroids[i]) ** 2 for x in X[labels == i]]) for i in range(len(centroids)))\n",
            "<ipython-input-360-eacaed9768d6>:38: DeprecationWarning: Calling np.sum(generator) is deprecated, and in the future will give a different result. Use np.sum(np.fromiter(generator)) or the python sum builtin instead.\n",
            "  new_sse = np.sum(np.sum([cosine_distance(x, centroids[i]) ** 2 for x in X[labels == i]]) for i in range(len(centroids)))\n",
            "<ipython-input-360-eacaed9768d6>:38: DeprecationWarning: Calling np.sum(generator) is deprecated, and in the future will give a different result. Use np.sum(np.fromiter(generator)) or the python sum builtin instead.\n",
            "  new_sse = np.sum(np.sum([cosine_distance(x, centroids[i]) ** 2 for x in X[labels == i]]) for i in range(len(centroids)))\n",
            "<ipython-input-360-eacaed9768d6>:38: DeprecationWarning: Calling np.sum(generator) is deprecated, and in the future will give a different result. Use np.sum(np.fromiter(generator)) or the python sum builtin instead.\n",
            "  new_sse = np.sum(np.sum([cosine_distance(x, centroids[i]) ** 2 for x in X[labels == i]]) for i in range(len(centroids)))\n"
          ]
        }
      ]
    },
    {
      "cell_type": "code",
      "source": [
        "data_binarized = binarize(data)\n",
        "labels_jaccard, centroids_jaccard, iters_jaccard, time_jaccard,sse_jaccard  = kmeans_iterations(data_binarized, K, 'jaccard',max_iters=500)"
      ],
      "metadata": {
        "id": "S7T8FjF5FE7i"
      },
      "execution_count": null,
      "outputs": []
    },
    {
      "cell_type": "code",
      "source": [
        "print(f\"Euclidean K-means SSE after SSE increase: {sse_euclidean}\")\n",
        "print(f\"Cosine K-means SSE after SSE increase: {sse_cosine}\")\n",
        "print(f\"Jaccard K-means SSE after SSE increase: {sse_jaccard}\")"
      ],
      "metadata": {
        "id": "kuYseSo_Chqp"
      },
      "execution_count": null,
      "outputs": []
    }
  ]
}
